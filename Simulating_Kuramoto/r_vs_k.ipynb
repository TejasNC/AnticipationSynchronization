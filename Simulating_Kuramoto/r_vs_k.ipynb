{
 "cells": [
  {
   "cell_type": "code",
   "execution_count": 26,
   "metadata": {},
   "outputs": [],
   "source": [
    "from kuramoto import KuramotoModel\n",
    "import numpy as np"
   ]
  },
  {
   "cell_type": "code",
   "execution_count": null,
   "metadata": {},
   "outputs": [],
   "source": [
    "# Plotting R vs K\n",
    "Ks = np.linspace(0, 5, 10)\n",
    "Rs = []\n",
    "for K in Ks:\n",
    "    model = KuramotoModel(N=100, K=K)\n",
    "    model.run_simulation()\n",
    "    Rs.append(model.find_terminal_order_parameter())"
   ]
  },
  {
   "cell_type": "code",
   "execution_count": null,
   "metadata": {},
   "outputs": [],
   "source": [
    "# Plotting\n",
    "import matplotlib.pyplot as plt\n",
    "plt.plot(Ks, Rs)\n",
    "plt.xlabel('K')\n",
    "plt.ylabel('R')\n",
    "plt.show()"
   ]
  },
  {
   "cell_type": "markdown",
   "metadata": {},
   "source": [
    "From the graph, $K_C$ is located somewhere between 1.5 and 2."
   ]
  },
  {
   "cell_type": "code",
   "execution_count": null,
   "metadata": {},
   "outputs": [],
   "source": [
    "Ks = np.linspace(1.5, 2.0, 10)\n",
    "Rs = []\n",
    "for K in Ks:\n",
    "\tmodel = KuramotoModel(N=100, K=K)\n",
    "\tmodel.run_simulation()\n",
    "\tRs.append(model.find_terminal_order_parameter())\n",
    "\n",
    "plt.plot(Ks, Rs)\n",
    "plt.xlabel('K')\n",
    "plt.ylabel('R')\n",
    "plt.show()"
   ]
  },
  {
   "cell_type": "markdown",
   "metadata": {},
   "source": [
    "The theoretical value of $K_C$ for this model is $2\\sqrt{\\frac{2}{\\pi}}$ whichi is about 1.6"
   ]
  }
 ],
 "metadata": {
  "kernelspec": {
   "display_name": "base",
   "language": "python",
   "name": "python3"
  },
  "language_info": {
   "codemirror_mode": {
    "name": "ipython",
    "version": 3
   },
   "file_extension": ".py",
   "mimetype": "text/x-python",
   "name": "python",
   "nbconvert_exporter": "python",
   "pygments_lexer": "ipython3",
   "version": "3.11.8"
  }
 },
 "nbformat": 4,
 "nbformat_minor": 2
}
